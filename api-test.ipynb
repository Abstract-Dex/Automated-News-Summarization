{
 "cells": [
  {
   "cell_type": "markdown",
   "metadata": {},
   "source": [
    "## Google News"
   ]
  },
  {
   "cell_type": "code",
   "execution_count": 2,
   "metadata": {},
   "outputs": [],
   "source": [
    "import requests\n",
    "\n",
    "def fetch_news(topic):\n",
    "\turl = f\"https://google-news13.p.rapidapi.com/{topic}\"\n",
    "\n",
    "\tquerystring = {\"lr\":\"en-IN\", \"hl\":\"en\", \"gl\":\"IN\"}\n",
    "\n",
    "\theaders = {\n",
    "\t\t\"x-rapidapi-key\": \"03a627dc4emshedbeb8b8893f5b9p190bacjsnaf5e8f2531c6\",\n",
    "\t\t\"x-rapidapi-host\": \"google-news13.p.rapidapi.com\"\n",
    "\t}\n",
    "\n",
    "\tresponse = requests.get(url, headers=headers, params=querystring)\n",
    "\n",
    "\treturn response.json()\n",
    "\n",
    "\t# with open('news.json', 'w') as f:\n",
    "\t# \tf.write(response.text)"
   ]
  },
  {
   "cell_type": "code",
   "execution_count": 3,
   "metadata": {},
   "outputs": [
    {
     "name": "stdout",
     "output_type": "stream",
     "text": [
      "Gautam Adani takes major step as Adani Power cuts power supply to Bangladesh due to.... https://www.india.com/business/gautam-adani-takes-major-step-as-adani-power-cuts-power-supply-to-bangladesh-due-to-outstanding-bills-846-million-dollars-adani-group-7365019/\n"
     ]
    }
   ],
   "source": [
    "topic = input(\"Enter the topic: \")\n",
    "response = fetch_news(topic)\n",
    "\n",
    "for item in response['items']:\n",
    "\ttitle = item['title']\n",
    "\tlink = item['newsUrl']\n",
    "\tprint(title, link)\n",
    "\tbreak\n",
    "\n",
    "# with open('news.json', 'w') as f:\n",
    "# \tf.write(response.text)"
   ]
  },
  {
   "cell_type": "code",
   "execution_count": 4,
   "metadata": {},
   "outputs": [],
   "source": [
    "import os \n",
    "from dotenv import load_dotenv\n",
    "\n",
    "load_dotenv()\n",
    "\n",
    "GROQ_API_KEY = os.getenv('GROQ_API_KEY')\n",
    "SERPHOUSE_API_KEY = os.getenv('SERPHOUSE_API_KEY')"
   ]
  },
  {
   "cell_type": "code",
   "execution_count": 5,
   "metadata": {},
   "outputs": [],
   "source": [
    "from langchain_groq import ChatGroq\n",
    "from langchain_core.prompts import PromptTemplate\n",
    "\n",
    "llm = ChatGroq(\n",
    "    groq_api_key = GROQ_API_KEY,\n",
    "    model=\"llama-3.1-8b-instant\",\n",
    "    temperature=0.0,\n",
    "    max_retries=2,\n",
    "    streaming=True,\n",
    ")\n",
    "\n",
    "def summarize(title, link):\n",
    "\tprompt = PromptTemplate(\n",
    "\t\tinput_variables=[\"title\", \"link\"],\n",
    "\t\ttemplate=\"\"\"\n",
    "\t\tYou are an AI assistant. Your task is to read the news title and visit the provided news link. \n",
    "\t\tAfter visiting the link, summarize the content of the news article.\n",
    "\n",
    "\t\tNews Title: {title}\n",
    "\t\tNews Link: {link}\n",
    "\n",
    "\t\tPlease provide a concise summary of the article in markdown format and exclude the output preamble.\n",
    "\t\t\"\"\"\n",
    "\t)\n",
    "\tchain = prompt | llm\n",
    "\tres = chain.invoke({\"title\": title, \"link\": link})\n",
    "\treturn res.content"
   ]
  },
  {
   "cell_type": "code",
   "execution_count": 6,
   "metadata": {},
   "outputs": [
    {
     "name": "stdout",
     "output_type": "stream",
     "text": [
      "**India Women's Cricket Team Faces Backlash After Loss to New Zealand**\n",
      "\n",
      "The Indian women's cricket team, led by Harmanpreet Kaur, faced severe criticism and online backlash after their loss to New Zealand in the Women's T20 World Cup. The team's performance was described as \"pathetic\" by many, including former players and cricket experts.\n",
      "\n",
      "The backlash was further fueled by an old tweet from the Board of Control for Cricket in India (BCCI), which had stated that the team's performance was a \"source of pride\" for the country. The tweet was seen as insensitive and hypocritical, given the team's recent performance.\n",
      "\n",
      "The online criticism was brutal, with many calling for the team's captain, Harmanpreet Kaur, to be held accountable for the team's poor performance. The team's coach, Ramesh Powar, also faced criticism for his tactics and decision-making during the match.\n",
      "\n",
      "The incident highlights the intense scrutiny and pressure that the Indian women's cricket team faces, both on and off the field. The team will need to regroup and refocus if they hope to turn their season around and achieve success in the Women's T20 World Cup.\n"
     ]
    }
   ],
   "source": [
    "x = summarize(\"Harmanpreet Kaur-led India shown no mercy after 'pathetic loss' vs NZ, face brutal online backlash over old BCCI tweet\", \"https://www.hindustantimes.com/cricket/harmanpreet-kaur-india-no-mercy-pathetic-loss-womens-t20-world-cup-nz-loss-face-brutal-online-backlash-old-bcci-tweet-101728122092807.html\")\n",
    "print(x)"
   ]
  },
  {
   "cell_type": "markdown",
   "metadata": {},
   "source": [
    "## SerpHouse API"
   ]
  },
  {
   "cell_type": "code",
   "execution_count": 7,
   "metadata": {},
   "outputs": [],
   "source": [
    "import requests\n",
    "import json\n",
    "url = \"https://api.serphouse.com/serp/live\"\n",
    "\n",
    "payload = {\n",
    "  \"data\":{\n",
    "\t\t\t\"q\": \"Sports news on 1st October 2023\",\n",
    "\t\t\t\"domain\": \"google.com\",\n",
    "\t\t\t\"loc\": \"Kolkata,West Bengal,India\",\n",
    "\t\t\t\"lang\": \"en\",\n",
    "\t\t\t\"device\": \"desktop\",\n",
    "\t\t\t\"serp_type\": \"news\",\n",
    "\t\t\t\"page\": \"1\",\n",
    "\t\t\t\"verbatim\": \"1\"\n",
    "\t}\n",
    "}\n",
    "headers = {\n",
    "    'accept': \"application/json\",\n",
    "    'content-type': \"application/json\",\n",
    "    'authorization': \"Bearer {}\".format(SERPHOUSE_API_KEY)\n",
    "}\n",
    "\n",
    "response = requests.request(\"POST\", url, json=payload, headers=headers)\n",
    "news = response.json()"
   ]
  },
  {
   "cell_type": "code",
   "execution_count": 10,
   "metadata": {},
   "outputs": [
    {
     "data": {
      "text/plain": [
       "{'status': 'error',\n",
       " 'msg': 'Your SERPHouse account has either run out of available credits (try upgrading your Plan), or there is a payment problem.',\n",
       " 'error': ''}"
      ]
     },
     "execution_count": 10,
     "metadata": {},
     "output_type": "execute_result"
    }
   ],
   "source": [
    "# news = news['results']['results']['news']\n",
    "news"
   ]
  },
  {
   "cell_type": "code",
   "execution_count": 11,
   "metadata": {},
   "outputs": [],
   "source": [
    "# for i in news:\n",
    "# \tprint(f\"{i['title']}, {i['url']}\")\n",
    "\n",
    "# print(\"Total news fetched: \", len(news))"
   ]
  },
  {
   "cell_type": "markdown",
   "metadata": {},
   "source": [
    "## NewsCatcher API"
   ]
  },
  {
   "cell_type": "code",
   "execution_count": 5,
   "metadata": {},
   "outputs": [
    {
     "name": "stdout",
     "output_type": "stream",
     "text": [
      "{'status': 'error', 'error_code': 'LimitReached', 'message': 'Monthly API calls limit reached: 50'}\n"
     ]
    }
   ],
   "source": [
    "import os\n",
    "NEWSCATCHER_API_KEY = os.getenv('NEWSCATCHER_API_KEY')\n",
    "\n",
    "import requests\n",
    "\n",
    "url = \"https://api.newscatcherapi.com/v2/search\"\n",
    "\n",
    "querystring = {\"q\":\"Business\",\"lang\":\"en\",\"sort_by\":\"relevancy\",\"page\":\"1\",\"from\":\"Yesterday\",\"to\":\"Today\", \"countries\":\"IN\"}\n",
    "\n",
    "headers = {\"x-api-key\": NEWSCATCHER_API_KEY}\n",
    "\n",
    "response = requests.request(\"GET\", url, headers=headers, params=querystring)\n",
    "\n",
    "news = response.json()\n",
    "\n",
    "print(news)"
   ]
  },
  {
   "cell_type": "code",
   "execution_count": 13,
   "metadata": {},
   "outputs": [
    {
     "name": "stdout",
     "output_type": "stream",
     "text": [
      "BAU developing business modules for farmers, https://timesofindia.indiatimes.com/city/patna/baus-innovative-business-module-set-to-transform-farming-in-india/articleshow/114864177.cms\n",
      "AO Smith completes ₹600-crore acquisition of HUL's water purification business Pureit, https://www.livemint.com/companies/ao-smith-completes-rs-600-crore-acquisition-of-huls-water-purification-business-pureit-11730473644073.html\n",
      "Sona expects Escorts' railway parts business to be accretive from the first year, https://auto.economictimes.indiatimes.com/news/auto-components/sona-expects-escorts-railway-parts-business-to-be-accretive-from-the-first-year/114847569\n",
      "Greaves Cotton appoints Ramachandra Puttanna as Business Head for EV solutions and new ventures, https://auto.economictimes.indiatimes.com/news/industry/greaves-cotton-appoints-ramachandra-puttanna-as-business-head-for-ev-solutions-and-new-ventures/114840069\n",
      "Thane: Affordability And Strategic Location Propel City Into Booming Commercial Hub, https://www.freepressjournal.in/business/thane-affordability-and-strategic-location-propel-city-into-booming-commercial-hub\n",
      "Lamborghinis of Dubai vs. Singapore's billionaire lifestyle: An X user insight goes viral revealing which city is best for you, https://timesofindia.indiatimes.com/etimes/trending/lamborghinis-of-dubai-vs-singapores-billionaire-lifestyle-an-x-user-insight-goes-viral-revealing-which-city-is-best-for-you/articleshow/114838460.cms\n",
      "'This is a vanity business': Cody Rhodes gave an explosive remark on body shaming in pro wrestling, https://timesofindia.indiatimes.com/sports/wwe/top-stories/this-is-a-vanity-business-cody-rhodes-gave-an-explosive-remark-on-body-shaming-in-pro-wrestling/articleshow/114835606.cms\n",
      "Water tech company AO Smith completes acquiring Pureit Business from HUL, https://www.business-standard.com/companies/news/water-tech-company-ao-smith-completes-acquiring-pureit-business-from-hul-124110100501_1.html\n",
      "Horoscope Today, November 1, 2024: Zodiac Insights for Career and Business Growth, https://www.moneycontrol.com/astrology/horoscope-today-november-1-2024-zodiac-insights-for-career-and-business-growth-article-12856395.html\n",
      "Business in the Week Ahead (November 4-8, 2024), https://www.moneycontrol.com/news/business/markets/business-in-the-week-ahead-november-4-8-2024-12856361.html\n",
      "Business News LIVE Updates Today November 1, 2024: Apple posts record revenue, credits India iPhone sales; plans 4 new stores: CEO Tim Cook, https://www.hindustantimes.com/business/latest-business-today-live-updates-november-1-2024-101730435597800.html\n",
      "Tech giants see AI bets starting to pay off, https://www.livemint.com/ai/artificial-intelligence/tech-giants-see-ai-bets-starting-to-pay-off-11730432841245.html\n",
      "Passing down an inheritance? Here's how to handle these 4 complicated assets — including houses and retirement funds., https://www.businessinsider.in/stock-market/news/passing-down-an-inheritance-heres-how-to-handle-these-4-complicated-assets-including-houses-and-retirement-funds-/articleshow/114854774.cms\n",
      "What top US CEOs are worried about when it comes to a Trump or Harris presidency, https://www.businessinsider.in/politics/world/news/what-top-us-ceos-are-worried-about-when-it-comes-to-a-trump-or-harris-presidency/articleshow/114852670.cms\n",
      "Dharma-Serene deal spotlights stress in showbiz, https://www.hindustantimes.com/cities/mumbai-news/dharmaserene-deal-spotlights-stress-in-showbiz-101730403617458.html\n",
      "This is how Indigo's new business class ‘Indigo Stretch' looks like – Inside view, amenities and more, https://www.financialexpress.com/business/airlines-aviation-this-is-how-indigos-new-business-class-indigo-stretch-looks-like-inside-view-amenities-and-more-3654047\n",
      "Leo November 2024 Horoscope: Unveil Your Monthly Horoscope Insights, https://www.outlookindia.com/astrology/leo/leo-november-2024-horoscope-unveil-your-monthly-horoscope-insights\n",
      "Singham Again & Bhool Bhulaiyaa 3 Day One Box Office Estimates: Ajay Devgn & Kartik Aaryan film aim at Rs 70 crore, https://www.pinkvilla.com/entertainment/box-office/singham-again-bhool-bhulaiyaa-3-day-one-box-office-estimates-ajay-devgn-kartik-aaryan-film-aim-at-rs-70-crore-1356402\n",
      "Amazon profit soars 55% in Q3 driven by cloud growth, https://yourstory.com/2024/11/amazon-profit-soars-55-percent-q3-driven-cloud-growth-andy-jassy\n",
      "International Business Machines (NYSE:IBM) Trading 0.4% Higher After Dividend Announcement, https://www.defenseworld.net/2024/11/01/international-business-machines-nyseibm-trading-0-4-higher-after-dividend-announcement.html\n",
      "AO Smith completes acquisition of Pureit Business from HUL, https://retail.economictimes.indiatimes.com/news/food-entertainment/personal-care-pet-supplies-liquor/ao-smith-completes-acquisition-of-pureit-business-from-hul/114848396\n",
      "Sundaram Home Finance Q2 net contracts to ₹44 cr., https://www.thehindu.com/business/sundaram-home-finance-q2-net-contracts-to-44-cr/article68814985.ece\n",
      "'Andhra Pradesh soon to have AI University, data centers', https://telecom.economictimes.indiatimes.com/news/internet/andhra-pradesh-soon-to-have-ai-university-data-centers/114838739\n",
      "Allege harassment, businessmen delegation meets commissioner, https://www.tribuneindia.com/news/j-k/allege-harassment-businessmen-delegation-meets-commissioner\n",
      "Libra November 2024 Horoscope: Discover What This Month Holds For Your Zodiac Sign, https://www.outlookindia.com/astrology/libra/libra-november-2024-horoscope-discover-what-this-month-holds-for-your-zodiac-sign\n",
      "Linda McMahon stands by Donald Trump against sexism claims as election season nears, https://timesofindia.indiatimes.com/sports/wwe/top-stories/linda-mcmahon-defends-trump-against-sexism-allegations-ahead-of-2024-election/articleshow/114854418.cms\n",
      "Bhool Bhulaiyaa 3 Day 1 Box Office Trends: Emerges Kartik Aaryan's biggest opener; Aims at Rs 34 crore start, https://www.pinkvilla.com/entertainment/box-office/bhool-bhulaiyaa-3-day-1-box-office-trends-emerges-kartik-aaryans-biggest-opener-aims-at-rs-34-crore-start-1356386\n",
      "HSBC, Barclays and StanChart jostle for US banking riches, unruffled by White House race, https://economictimes.indiatimes.com/industry/banking/finance/banking/hsbc-barclays-and-stanchart-jostle-for-us-banking-riches-unruffled-by-white-house-race/articleshow/114850229.cms\n",
      "AO Smith completes acquisition of Pureit Business from HUL, https://m.economictimes.com/news/company/corporate-trends/ao-smith-completes-acquisition-of-pureit-business-from-hul/articleshow/114847701.cms\n",
      "Virgo November 2024 Horoscope: Get Your Monthly Zodiac Overview, https://www.outlookindia.com/astrology/virgo/virgo-november-2024-horoscope-get-your-monthly-zodiac-overview\n",
      "Scorpio November 2024 Horoscope: Read Your Monthly Zodiac Forecast, https://www.outlookindia.com/astrology/scorpio/scorpio-november-2024-horoscope-read-your-monthly-zodiac-forecast\n",
      "B. Riley Sells Wealth Management Unit to Stifel, https://www.devdiscourse.com/article/headlines/3143108-b-riley-sells-wealth-management-unit-to-stifel\n",
      "Itaru Otani named new chairman of Yamaha India, brings 30 yrs of experience, https://www.business-standard.com/companies/people/itaru-otani-named-new-chairman-of-yamaha-india-brings-30-yrs-of-experience-124110100275_1.html\n",
      "Horoscope Today: Astrological prediction November 2, 2024 for all zodiac signs, https://www.indiatoday.in/horoscopes/story/horoscope-today-november-2-2024-aries-taurus-gemini-cancer-leo-virgo-libra-scorpio-sagittarius-capricorn-aquarius-pisces-2626476-2024-11-02\n",
      "ELECTRONIC ARTS INC. SEC 10-Q Report, https://www.tradingview.com/news/tradingview:629334ba3f702:0-electronic-arts-inc-sec-10-q-report\n",
      "Horoscope Today, November 2, 2024: Health Challenges For Aries; Virgo Might Have A Hectic Day, https://english.jagran.com/spiritualhoroscope/horoscope-today-november-2-2024-health-challenges-for-aries-virgo-might-have-a-hectic-day-10198231\n",
      "The Reading List: November 1, 2024, https://www.moneycontrol.com/news/business/economy/the-reading-list-november-1-2024-12856564.html\n",
      "Big move by Mukesh Ambani, Isha Ambani as Reliance Retial set to disrupt market by hiring people from…, https://www.dnaindia.com/business/report-big-move-by-mukesh-ambani-isha-ambani-as-reliance-retial-set-to-disrupt-market-by-hiring-people-from-3115940&t=Zee%20News\n",
      "Sebi proposes doubling threshold for 'High Value Debt Listed Entities' to Rs 1,000 crore, https://www.mid-day.com/business/business-news/article/sebi-proposes-doubling-threshold-for-high-value-debt-listed-entities-to-rs-1000-crore-23421474\n",
      "Box Office Trends: Singham Again emerges Ajay Devgn's biggest opener; Flirts with 42 crore on day one, https://www.pinkvilla.com/entertainment/box-office/box-office-trends-singham-again-emerges-ajay-devgns-biggest-opener-flirts-with-42-crore-on-day-one-1356375\n",
      "'I'd love to have him but...' - Donald Trump on Elon Musk's role if he gets elected as US President, https://www.moneycontrol.com/news/world/id-love-to-have-him-but-donald-trump-on-elon-musks-role-if-he-gets-elected-as-us-president-12856487.html\n",
      "Meet woman, college dropout, works just 4 hours, earns Rs 50000 daily, her business is…, https://www.india.com/business/meet-woman-amy-landino-college-dropout-works-just-4-hours-earns-rs-50000-daily-her-business-is-7364304\n",
      "Why Wall Street is skeptical about Comcast's proposal to ditch its cable networks and pair Peacock with a competitor, https://www.businessinsider.in/international/news/why-wall-street-is-skeptical-about-comcasts-proposal-to-ditch-its-cable-networks-and-pair-peacock-with-a-competitor/articleshow/114860470.cms\n",
      "Big move by Mukesh Ambani, Isha Ambani as Reliance Retial set to disrupt market by hiring people, https://www.dnaindia.com/business/report-big-move-by-mukesh-ambani-isha-ambani-as-reliance-retial-set-to-disrupt-market-by-hiring-people-from-3115940\n",
      "Biz fundamentals rekindling investor confidence in edtech: Eruditus CEO, https://www.business-standard.com/companies/news/biz-fundamentals-rekindling-investor-confidence-in-edtech-eruditus-ceo-124110100516_1.html\n",
      "Nilesh Shah Of Kotak AMC On Where To Invest In Samvat 2081  Sectors To Watch, https://www.livemint.com/videos/nilesh-shah-of-kotak-amc-on-where-to-invest-in-samvat-2081-sectors-to-watch-diwali-2024-11730473098476.html\n",
      "Pisces November 2024 Horoscope: Look Into Your Monthly Astrological Forecasts, https://www.outlookindia.com/astrology/pisces/pisces-november-2024-horoscope-look-into-your-monthly-astrological-forecasts\n",
      "Google India PAT rises 6 percent to Rs 1,425 crore in FY24, https://economictimes.indiatimes.com/tech/technology/google-india-pat-rises-6-percent-to-rs-1425-crore-in-fy24/articleshow/114852566.cms\n",
      "HUL announces completion of acquisition of Pureit by A.O. Smith, https://www.financialexpress.com/business/industry-hul-announces-completion-of-acquisition-of-pureit-by-a-o-smith-3654200\n",
      "'Billionaire Hub Vs Tax-Free Oasis': Viral Thread On How Singapore And Dubai Differ, https://www.news18.com/viral/billionaires-hub-vs-tax-free-oasis-viral-thread-on-how-singapore-and-dubai-differ-9105440.html\n"
     ]
    }
   ],
   "source": [
    "for i in news['articles']:\n",
    "\tprint(f\"{i['title']}, {i['link']}\")"
   ]
  }
 ],
 "metadata": {
  "kernelspec": {
   "display_name": "NLP",
   "language": "python",
   "name": "python3"
  },
  "language_info": {
   "codemirror_mode": {
    "name": "ipython",
    "version": 3
   },
   "file_extension": ".py",
   "mimetype": "text/x-python",
   "name": "python",
   "nbconvert_exporter": "python",
   "pygments_lexer": "ipython3",
   "version": "3.12.4"
  }
 },
 "nbformat": 4,
 "nbformat_minor": 2
}
