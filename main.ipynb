{
 "cells": [
  {
   "cell_type": "code",
   "execution_count": 1,
   "metadata": {},
   "outputs": [],
   "source": [
    "import requests\n",
    "\n",
    "def fetch_news(topic):\n",
    "\turl = f\"https://google-news13.p.rapidapi.com/{topic}\"\n",
    "\n",
    "\tquerystring = {\"lr\":\"en-IN\", \"hl\":\"en\", \"gl\":\"IN\"}\n",
    "\n",
    "\theaders = {\n",
    "\t\t\"x-rapidapi-key\": \"03a627dc4emshedbeb8b8893f5b9p190bacjsnaf5e8f2531c6\",\n",
    "\t\t\"x-rapidapi-host\": \"google-news13.p.rapidapi.com\"\n",
    "\t}\n",
    "\n",
    "\tresponse = requests.get(url, headers=headers, params=querystring)\n",
    "\n",
    "\treturn response.json()\n",
    "\n",
    "\t# with open('news.json', 'w') as f:\n",
    "\t# \tf.write(response.text)"
   ]
  },
  {
   "cell_type": "code",
   "execution_count": 4,
   "metadata": {},
   "outputs": [
    {
     "name": "stdout",
     "output_type": "stream",
     "text": [
      "Harmanpreet Kaur-led India shown no mercy after 'pathetic loss' vs NZ, face brutal online backlash over old BCCI tweet https://www.hindustantimes.com/cricket/harmanpreet-kaur-india-no-mercy-pathetic-loss-womens-t20-world-cup-nz-loss-face-brutal-online-backlash-old-bcci-tweet-101728122092807.html\n"
     ]
    }
   ],
   "source": [
    "topic = input(\"Enter the topic: \")\n",
    "response = fetch_news(topic)\n",
    "\n",
    "for item in response['items']:\n",
    "\ttitle = item['title']\n",
    "\tlink = item['newsUrl']\n",
    "\tprint(title, link)\n",
    "\tbreak\n",
    "\n",
    "# with open('news.json', 'w') as f:\n",
    "# \tf.write(response.text)"
   ]
  },
  {
   "cell_type": "code",
   "execution_count": 1,
   "metadata": {},
   "outputs": [],
   "source": [
    "import os \n",
    "from dotenv import load_dotenv\n",
    "\n",
    "load_dotenv()\n",
    "\n",
    "GROQ_API_KEY = os.getenv('GROQ_API_KEY')"
   ]
  },
  {
   "cell_type": "code",
   "execution_count": 11,
   "metadata": {},
   "outputs": [],
   "source": [
    "from langchain_groq import ChatGroq\n",
    "from langchain_core.prompts import PromptTemplate\n",
    "\n",
    "llm = ChatGroq(\n",
    "    groq_api_key = GROQ_API_KEY,\n",
    "    model=\"llama-3.1-8b-instant\",\n",
    "    temperature=0.0,\n",
    "    max_retries=2,\n",
    "    streaming=True,\n",
    ")\n",
    "\n",
    "def summarize(title, link):\n",
    "\tprompt = PromptTemplate(\n",
    "\t\tinput_variables=[\"title\", \"link\"],\n",
    "\t\ttemplate=\"\"\"\n",
    "\t\tYou are an AI assistant. Your task is to read the news title and visit the provided news link. \n",
    "\t\tAfter visiting the link, summarize the content of the news article.\n",
    "\n",
    "\t\tNews Title: {title}\n",
    "\t\tNews Link: {link}\n",
    "\n",
    "\t\tPlease provide a concise summary of the article in markdown format and exclude the output preamble.\n",
    "\t\t\"\"\"\n",
    "\t)\n",
    "\tchain = prompt | llm\n",
    "\tres = chain.invoke({\"title\": title, \"link\": link})\n",
    "\treturn res.content"
   ]
  },
  {
   "cell_type": "code",
   "execution_count": 13,
   "metadata": {},
   "outputs": [
    {
     "name": "stdout",
     "output_type": "stream",
     "text": [
      "**India Women's Cricket Team Faces Backlash After Loss**\n",
      "### Summary\n",
      "\n",
      "* The India women's cricket team, led by Harmanpreet Kaur, faced a brutal online backlash after their loss to New Zealand in the Women's T20 World Cup.\n",
      "* The backlash was triggered by a 2018 tweet from the Board of Control for Cricket in India (BCCI) which said that the team's performance was \"pathetic\".\n",
      "* The tweet was resurfaced on social media after India's loss, with many users criticizing the BCCI for their words and the team for their performance.\n",
      "* The BCCI has since apologized for the tweet, stating that it was not meant to be taken seriously and that they are proud of the team's efforts.\n",
      "* The team's loss to New Zealand was a significant setback, as they were looking to make a strong comeback in the tournament.\n",
      "* The team's performance has been criticized by fans and experts alike, with many calling for changes in the team's strategy and lineup.\n",
      "\n",
      "**Source:** [Hindustan Times](https://www.hindustantimes.com/cricket/harmanpreet-kaur-india-no-mercy-pathetic-loss-womens-t20-world-cup-nz-loss-face-brutal-online-backlash-old-bcci-tweet-101728122092807.html)\n"
     ]
    }
   ],
   "source": [
    "x = summarize(\"Harmanpreet Kaur-led India shown no mercy after 'pathetic loss' vs NZ, face brutal online backlash over old BCCI tweet\", \"https://www.hindustantimes.com/cricket/harmanpreet-kaur-india-no-mercy-pathetic-loss-womens-t20-world-cup-nz-loss-face-brutal-online-backlash-old-bcci-tweet-101728122092807.html\")\n",
    "print(x)"
   ]
  },
  {
   "cell_type": "code",
   "execution_count": null,
   "metadata": {},
   "outputs": [],
   "source": []
  }
 ],
 "metadata": {
  "kernelspec": {
   "display_name": "NLP",
   "language": "python",
   "name": "python3"
  },
  "language_info": {
   "codemirror_mode": {
    "name": "ipython",
    "version": 3
   },
   "file_extension": ".py",
   "mimetype": "text/x-python",
   "name": "python",
   "nbconvert_exporter": "python",
   "pygments_lexer": "ipython3",
   "version": "3.12.4"
  }
 },
 "nbformat": 4,
 "nbformat_minor": 2
}
